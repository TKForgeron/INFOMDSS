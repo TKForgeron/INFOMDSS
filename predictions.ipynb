{
 "cells": [
  {
   "cell_type": "code",
   "execution_count": 1,
   "metadata": {},
   "outputs": [
    {
     "name": "stdout",
     "output_type": "stream",
     "text": [
      "Index(['date', 'town_code', 'agas_code', 'accumulated_cases',\n",
      "       'new_cases_on_date', 'new_recoveries_on_date',\n",
      "       'new_hospitalized_on_date', 'new_deaths_on_date',\n",
      "       'new_diagnostic_tests_on_date', 'new_vacc_first_dose_on_date',\n",
      "       'new_vacc_second_dose_on_date', 'new_vacc_third_dose_on_date'],\n",
      "      dtype='object')\n"
     ]
    }
   ],
   "source": [
    "import pandas as pd\n",
    "import numpy as np\n",
    "from statistics import mean\n",
    "import random\n",
    "\n",
    "from sklearn.feature_extraction.text import CountVectorizer\n",
    "from sklearn.model_selection import (\n",
    "    train_test_split,\n",
    "    cross_val_score,\n",
    "    KFold,\n",
    ")\n",
    "from sklearn.neighbors import KNeighborsRegressor, RadiusNeighborsRegressor\n",
    "from sklearn.linear_model import LinearRegression,SGDRegressor,HuberRegressor,Perceptron,BayesianRidge\n",
    "from sklearn.model_selection import GridSearchCV\n",
    "from sklearn.metrics import confusion_matrix, classification_report\n",
    "from sklearn.preprocessing import LabelEncoder\n",
    "from sklearn.ensemble import RandomForestRegressor,AdaBoostRegressor\n",
    "from sklearn.tree import DecisionTreeRegressor\n",
    "from sklearn.gaussian_process import GaussianProcessRegressor\n",
    "from sklearn.cross_decomposition import PLSRegression\n",
    "from sklearn.neural_network import MLPRegressor\n",
    "from sklearn.isotonic import IsotonicRegression\n",
    "\n",
    "import preprocessing_predictions as prep"
   ]
  },
  {
   "cell_type": "code",
   "execution_count": 2,
   "metadata": {},
   "outputs": [
    {
     "name": "stdout",
     "output_type": "stream",
     "text": [
      "Index(['date', '_id', 'accumulated_cases'], dtype='object')\n"
     ]
    }
   ],
   "source": [
    "df = prep.get_prediction_data()\n",
    "df_measures = prep.get_measures_data()"
   ]
  },
  {
   "cell_type": "code",
   "execution_count": 3,
   "metadata": {},
   "outputs": [
    {
     "name": "stdout",
     "output_type": "stream",
     "text": [
      "Countries in df:  ['Israel' 'Netherlands']\n",
      "PROBLEMATIC!!\n"
     ]
    }
   ],
   "source": [
    "countries = df['CountryName'].unique()\n",
    "print('Countries in df: ',countries)\n",
    "print('PROBLEMATIC!!')"
   ]
  },
  {
   "cell_type": "code",
   "execution_count": 4,
   "metadata": {},
   "outputs": [],
   "source": [
    "folds = KFold(n_splits = 10, shuffle = True, random_state = 32)"
   ]
  },
  {
   "cell_type": "code",
   "execution_count": 8,
   "metadata": {},
   "outputs": [],
   "source": [
    "x_train = df[[\"deaths\", \"cases\", \"hospitalizations\", \"vaccinations\", \"temp\"]]\n",
    "y_train = df[\"StringencyIndexForDisplay\"]\n",
    "\n",
    "x_train_oxford = df_measures[[\"deaths\", \"cases\"]]\n",
    "y_train_oxford = df_measures[\"StringencyIndexForDisplay\"]\n",
    "\n"
   ]
  },
  {
   "cell_type": "code",
   "execution_count": 9,
   "metadata": {},
   "outputs": [
    {
     "name": "stdout",
     "output_type": "stream",
     "text": [
      "Accuracy rfr: [0.80923988 0.66567431 0.47850192 0.56186906 0.42212359 0.87484442\n",
      " 0.78606878 0.76076474 0.88746887 0.87530541]\n",
      "Mean: 0.7121860984810039\n"
     ]
    }
   ],
   "source": [
    "# Random Forest\n",
    "rfr_grid_search = RandomForestRegressor(n_jobs=-1,n_estimators=12,min_samples_split=5,max_depth=21,max_features='log2',criterion='absolute_error')\n",
    "scores_rfr = cross_val_score(rfr_grid_search, x_train, y_train, cv=folds)\n",
    "print(\"Accuracy rfr:\", scores_rfr)\n",
    "print(\"Mean:\", mean(scores_rfr))"
   ]
  },
  {
   "cell_type": "code",
   "execution_count": 9,
   "metadata": {},
   "outputs": [],
   "source": [
    "# Random Forest\n",
    "# FULL OXFORD SET, ALL COUNTRIES\n",
    "rfr_grid_search = RandomForestRegressor(n_jobs=-1,n_estimators=12,min_samples_split=5,max_depth=21,max_features='log2',criterion='absolute_error')\n",
    "scores_rfr = cross_val_score(rfr_grid_search, x_train_oxford, y_train_oxford, cv=folds)\n",
    "print(\"Accuracy rfr:\", scores_rfr)\n",
    "print(\"Mean:\", mean(scores_rfr))"
   ]
  },
  {
   "cell_type": "code",
   "execution_count": 5,
   "metadata": {},
   "outputs": [
    {
     "name": "stdout",
     "output_type": "stream",
     "text": [
      "Accuracy rfr: [0.42388131 0.42296422 0.42742043 0.41482642 0.43004378]\n",
      "Mean: 0.42382723184585913\n"
     ]
    }
   ],
   "source": [
    "# Decision Tree\n",
    "# FULL OXFORD SET, ALL COUNTRIES\n",
    "dtr_grid_search = DecisionTreeRegressor(criterion='absolute_error')\n",
    "scores_dtr = cross_val_score(dtr_grid_search, x_train_oxford, y_train_oxford, cv=folds)\n",
    "print(\"Accuracy dtr:\", scores_dtr)\n",
    "print(\"Mean:\", mean(scores_dtr))"
   ]
  },
  {
   "cell_type": "code",
   "execution_count": null,
   "metadata": {},
   "outputs": [],
   "source": [
    "# FULL OXFORD SET, ALL COUNTRIES\n",
    "dtr_grid_search = DecisionTreeRegressor(criterion='absolute_error')\n",
    "scores_dtr = cross_val_score(dtr_grid_search, x_train_oxford, y_train_oxford, cv=folds)\n",
    "print(\"Accuracy dtr:\", scores_dtr)\n",
    "print(\"Mean:\", mean(scores_dtr))"
   ]
  },
  {
   "cell_type": "code",
   "execution_count": 7,
   "metadata": {},
   "outputs": [
    {
     "data": {
      "text/plain": [
       "array(['Israel', 'Netherlands'], dtype=object)"
      ]
     },
     "execution_count": 7,
     "metadata": {},
     "output_type": "execute_result"
    }
   ],
   "source": []
  },
  {
   "cell_type": "code",
   "execution_count": null,
   "metadata": {},
   "outputs": [],
   "source": []
  }
 ],
 "metadata": {
  "interpreter": {
   "hash": "5e8014f0653b068db70c5310ee3853998f873ad4fb0e9d6cc001a2f7ce91b38b"
  },
  "kernelspec": {
   "display_name": "Python 3.9.6 64-bit ('.env': venv)",
   "name": "python3"
  },
  "language_info": {
   "codemirror_mode": {
    "name": "ipython",
    "version": 3
   },
   "file_extension": ".py",
   "mimetype": "text/x-python",
   "name": "python",
   "nbconvert_exporter": "python",
   "pygments_lexer": "ipython3",
   "version": "3.9.6"
  },
  "orig_nbformat": 4
 },
 "nbformat": 4,
 "nbformat_minor": 2
}
