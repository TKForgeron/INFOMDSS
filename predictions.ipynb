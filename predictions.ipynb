{
 "cells": [
  {
   "cell_type": "code",
   "execution_count": 1,
   "metadata": {},
   "outputs": [],
   "source": [
    "import pandas as pd\n",
    "import numpy as np\n",
    "from statistics import mean\n",
    "import random\n",
    "\n",
    "from sklearn.feature_extraction.text import CountVectorizer\n",
    "from sklearn.model_selection import (\n",
    "    train_test_split,\n",
    "    cross_val_score,\n",
    "    KFold,\n",
    "    cross_validate,\n",
    "    GridSearchCV\n",
    ")\n",
    "from sklearn.neighbors import KNeighborsRegressor, RadiusNeighborsRegressor\n",
    "from sklearn.linear_model import LinearRegression,SGDRegressor,HuberRegressor,Perceptron,BayesianRidge\n",
    "from sklearn.ensemble import RandomForestRegressor,AdaBoostRegressor\n",
    "from sklearn.tree import DecisionTreeRegressor\n",
    "from sklearn.gaussian_process import GaussianProcessRegressor\n",
    "from sklearn.cross_decomposition import PLSRegression\n",
    "from sklearn.neural_network import MLPRegressor\n",
    "from sklearn.isotonic import IsotonicRegression\n",
    "\n",
    "import preprocessing_predictions as prep"
   ]
  },
  {
   "cell_type": "code",
   "execution_count": 2,
   "metadata": {},
   "outputs": [],
   "source": [
    "df = prep.get_prediction_data()\n",
    "# df_measures = prep.get_measures_data()"
   ]
  },
  {
   "cell_type": "code",
   "execution_count": 131,
   "metadata": {},
   "outputs": [
    {
     "name": "stdout",
     "output_type": "stream",
     "text": [
      "Countries in df:  ['Israel' 'Netherlands']\n",
      "Australia should be in here!\n",
      "__________________________________________________________________________________________\n",
      "all rows that concern the last week (and NL) should be removed for training the model...\n",
      "...and used as data that will be predicted on\n"
     ]
    }
   ],
   "source": [
    "countries = df['CountryName'].unique()\n",
    "print('Countries in df: ',countries)\n",
    "print('Australia should be in here!')\n",
    "print('_'*90)\n",
    "print('all rows that concern the last week (and NL) should be removed for training the model...')\n",
    "print('...and used as data that will be predicted on')"
   ]
  },
  {
   "cell_type": "code",
   "execution_count": 3,
   "metadata": {},
   "outputs": [],
   "source": [
    "folds = KFold(n_splits = 10, shuffle = True, random_state = 32)"
   ]
  },
  {
   "cell_type": "code",
   "execution_count": 4,
   "metadata": {},
   "outputs": [],
   "source": [
    "x_train = df[[\"deaths\", \"cases\", \"hospitalizations\", \"vaccinations\", \"temp\"]]\n",
    "y_train = df[\"StringencyIndexForDisplay\"]\n",
    "\n",
    "x_train_oxford = df_measures[[\"deaths\", \"cases\"]]\n",
    "y_train_oxford = df_measures[\"StringencyIndexForDisplay\"]\n",
    "\n"
   ]
  },
  {
   "cell_type": "code",
   "execution_count": 5,
   "metadata": {},
   "outputs": [
    {
     "name": "stdout",
     "output_type": "stream",
     "text": [
      "AdaBoostRegressor() MAE mean: -5.171669929265951\n"
     ]
    }
   ],
   "source": [
    "regressors = [\n",
    "    KNeighborsRegressor(),\n",
    "    LinearRegression(),\n",
    "    SGDRegressor(),\n",
    "    HuberRegressor(),\n",
    "    BayesianRidge(),\n",
    "    DecisionTreeRegressor(),\n",
    "    GaussianProcessRegressor(),\n",
    "    PLSRegression(),\n",
    "    MLPRegressor(),\n",
    "    AdaBoostRegressor(),\n",
    "    RandomForestRegressor(n_jobs=-1,n_estimators=12,min_samples_split=5,max_depth=21,max_features='log2',criterion='absolute_error'),\n",
    "    \n",
    "]\n",
    "\n",
    "best_regressor = ''\n",
    "best_score = 9999\n",
    "\n",
    "for regressor in regressors:\n",
    "    regressor_scores = cross_val_score(regressor, x_train, y_train, cv=folds, scoring='neg_mean_absolute_error', error_score='raise', n_jobs=-1)\n",
    "    mean = regressor_scores.mean()\n",
    "    # print(f\"{regressor} MSE mean:\", mean)\n",
    "    # print('\\n')\n",
    "    if abs(mean) < abs(best_score):\n",
    "        best_regressor = regressor\n",
    "        best_score = mean\n",
    "\n",
    "        \n",
    "print(f\"{best_regressor} MAE mean:\", best_score)"
   ]
  },
  {
   "cell_type": "code",
   "execution_count": 44,
   "metadata": {},
   "outputs": [],
   "source": [
    "# AdaBoost hyperparameter tuning\n",
    "\n",
    "n_estimators = list(np.arange(10,25,1))\n",
    "parameters = {'n_estimators': n_estimators, 'loss':['square'],'learning_rate':np.arange(0.8,1.2,0.05)}\n",
    "regressor = AdaBoostRegressor(random_state=32)\n",
    "regressor = GridSearchCV(regressor,param_grid=parameters, scoring='neg_mean_absolute_error', n_jobs=-1, cv=folds)\n",
    "regressor.fit(x_train,y_train)\n",
    "results = pd.DataFrame(regressor.cv_results_).sort_values(by='rank_test_score')"
   ]
  },
  {
   "cell_type": "code",
   "execution_count": 45,
   "metadata": {},
   "outputs": [
    {
     "name": "stdout",
     "output_type": "stream",
     "text": [
      "   param_loss param_n_estimators param_learning_rate  mean_test_score  \\\n",
      "41     square                 21                 0.9        -4.876255   \n",
      "40     square                 20                 0.9        -4.898224   \n",
      "98     square                 18                 1.1        -4.904362   \n",
      "43     square                 23                 0.9        -4.911939   \n",
      "39     square                 19                 0.9        -4.921986   \n",
      "\n",
      "    std_test_score  \n",
      "41        2.120645  \n",
      "40        1.810617  \n",
      "98        2.115379  \n",
      "43        2.190320  \n",
      "39        2.628689  \n"
     ]
    }
   ],
   "source": [
    "print(results[['param_loss','param_n_estimators','param_learning_rate' ,'mean_test_score','std_test_score']].head())"
   ]
  },
  {
   "cell_type": "code",
   "execution_count": 124,
   "metadata": {},
   "outputs": [
    {
     "name": "stdout",
     "output_type": "stream",
     "text": [
      "Mean: -4.9099265252002455\n",
      "stdev: 1.9805838029801786\n"
     ]
    }
   ],
   "source": [
    "# AdaBoost, hyperparameters tuned\n",
    "\n",
    "regressor = AdaBoostRegressor(random_state=811, loss='square',n_estimators=21,learning_rate=0.9)\n",
    "regressor_scores = cross_val_score(regressor, x_train, y_train, cv=folds,scoring='neg_mean_absolute_error',error_score='raise')\n",
    "print(\"Mean:\", np.mean(regressor_scores))\n",
    "print(\"stdev:\", np.std(regressor_scores))"
   ]
  },
  {
   "cell_type": "code",
   "execution_count": 5,
   "metadata": {},
   "outputs": [
    {
     "name": "stdout",
     "output_type": "stream",
     "text": [
      "Accuracy rfr: [0.42388131 0.42296422 0.42742043 0.41482642 0.43004378]\n",
      "Mean: 0.42382723184585913\n"
     ]
    }
   ],
   "source": [
    "# Decision Tree\n",
    "# FULL OXFORD SET, ALL COUNTRIES\n",
    "dtr_grid_search = DecisionTreeRegressor(criterion='absolute_error')\n",
    "scores_dtr = cross_val_score(dtr_grid_search, x_train_oxford, y_train_oxford, cv=folds,scoring='neg_mean_absolute_error',error_score='raise')\n",
    "print(\"MSE dtr:\", scores_dtr)\n",
    "print(\"Mean:\", mean(scores_dtr))\n",
    "\n",
    "# Random Forest\n",
    "# FULL OXFORD SET, ALL COUNTRIES\n",
    "rfr_grid_search = RandomForestRegressor(n_jobs=-1,n_estimators=12,min_samples_split=5,max_depth=21,max_features='log2',criterion='absolute_error')\n",
    "scores_rfr = cross_val_score(rfr_grid_search, x_train_oxford, y_train_oxford, cv=folds,scoring='neg_mean_absolute_error',error_score='raise')\n",
    "print(\"MSE rfr:\", scores_rfr)\n",
    "print(\"Mean:\", mean(scores_rfr))"
   ]
  }
 ],
 "metadata": {
  "interpreter": {
   "hash": "5e8014f0653b068db70c5310ee3853998f873ad4fb0e9d6cc001a2f7ce91b38b"
  },
  "kernelspec": {
   "display_name": "Python 3.9.6 64-bit ('.env': venv)",
   "name": "python3"
  },
  "language_info": {
   "codemirror_mode": {
    "name": "ipython",
    "version": 3
   },
   "file_extension": ".py",
   "mimetype": "text/x-python",
   "name": "python",
   "nbconvert_exporter": "python",
   "pygments_lexer": "ipython3",
   "version": "3.9.6"
  },
  "orig_nbformat": 4
 },
 "nbformat": 4,
 "nbformat_minor": 2
}
