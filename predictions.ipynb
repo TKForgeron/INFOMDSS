{
 "cells": [
  {
   "cell_type": "code",
   "execution_count": 1,
   "metadata": {},
   "outputs": [
    {
     "name": "stdout",
     "output_type": "stream",
     "text": [
      "CountryName                                      object\n",
      "CountryCode                                      object\n",
      "RegionName                                       object\n",
      "RegionCode                                       object\n",
      "Jurisdiction                                     object\n",
      "date                                     datetime64[ns]\n",
      "C1_School closing                               float64\n",
      "C1_Flag                                         float64\n",
      "C2_Workplace closing                            float64\n",
      "C2_Flag                                         float64\n",
      "C3_Cancel public events                         float64\n",
      "C3_Flag                                         float64\n",
      "C4_Restrictions on gatherings                   float64\n",
      "C4_Flag                                         float64\n",
      "C5_Close public transport                       float64\n",
      "C5_Flag                                         float64\n",
      "C6_Stay at home requirements                    float64\n",
      "C6_Flag                                         float64\n",
      "C7_Restrictions on internal movement            float64\n",
      "C7_Flag                                         float64\n",
      "C8_International travel controls                float64\n",
      "E1_Income support                               float64\n",
      "E1_Flag                                         float64\n",
      "E2_Debt/contract relief                         float64\n",
      "E3_Fiscal measures                              float64\n",
      "E4_International support                        float64\n",
      "H1_Public information campaigns                 float64\n",
      "H1_Flag                                         float64\n",
      "H2_Testing policy                               float64\n",
      "H3_Contact tracing                              float64\n",
      "H4_Emergency investment in healthcare           float64\n",
      "H5_Investment in vaccines                       float64\n",
      "H6_Facial Coverings                             float64\n",
      "H6_Flag                                         float64\n",
      "H7_Vaccination policy                           float64\n",
      "H7_Flag                                         float64\n",
      "H8_Protection of elderly people                 float64\n",
      "H8_Flag                                         float64\n",
      "M1_Wildcard                                     float64\n",
      "cases                                           float64\n",
      "deaths                                          float64\n",
      "StringencyIndex                                 float64\n",
      "StringencyIndexForDisplay                       float64\n",
      "StringencyLegacyIndex                           float64\n",
      "StringencyLegacyIndexForDisplay                 float64\n",
      "GovernmentResponseIndex                         float64\n",
      "GovernmentResponseIndexForDisplay               float64\n",
      "ContainmentHealthIndex                          float64\n",
      "ContainmentHealthIndexForDisplay                float64\n",
      "EconomicSupportIndex                            float64\n",
      "EconomicSupportIndexForDisplay                  float64\n",
      "dtype: object\n",
      "        CountryName CountryCode RegionName RegionCode Jurisdiction       date  \\\n",
      "133727  Netherlands         NLD        NaN        NaN    NAT_TOTAL 2021-11-02   \n",
      "\n",
      "        C1_School closing  C1_Flag  C2_Workplace closing  C2_Flag  ...  \\\n",
      "133727                NaN      NaN                   NaN      NaN  ...   \n",
      "\n",
      "        StringencyIndex  StringencyIndexForDisplay  StringencyLegacyIndex  \\\n",
      "133727              NaN                      32.41                    NaN   \n",
      "\n",
      "        StringencyLegacyIndexForDisplay  GovernmentResponseIndex  \\\n",
      "133727                            48.81                      NaN   \n",
      "\n",
      "        GovernmentResponseIndexForDisplay  ContainmentHealthIndex  \\\n",
      "133727                              50.52                     NaN   \n",
      "\n",
      "        ContainmentHealthIndexForDisplay  EconomicSupportIndex  \\\n",
      "133727                              50.6                   NaN   \n",
      "\n",
      "        EconomicSupportIndexForDisplay  \n",
      "133727                            50.0  \n",
      "\n",
      "[1 rows x 51 columns]\n"
     ]
    }
   ],
   "source": [
    "import pandas as pd\n",
    "import numpy as np\n",
    "from statistics import mean\n",
    "import random\n",
    "\n",
    "from sklearn.feature_extraction.text import CountVectorizer\n",
    "from sklearn.model_selection import (\n",
    "    train_test_split,\n",
    "    cross_val_score,\n",
    "    KFold,\n",
    "    cross_validate,\n",
    "    GridSearchCV\n",
    ")\n",
    "from sklearn.neighbors import KNeighborsRegressor, RadiusNeighborsRegressor\n",
    "from sklearn.linear_model import LinearRegression,SGDRegressor,HuberRegressor,Perceptron,BayesianRidge\n",
    "from sklearn.ensemble import RandomForestRegressor,AdaBoostRegressor\n",
    "from sklearn.tree import DecisionTreeRegressor\n",
    "from sklearn.gaussian_process import GaussianProcessRegressor\n",
    "from sklearn.cross_decomposition import PLSRegression\n",
    "from sklearn.neural_network import MLPRegressor\n",
    "from sklearn.isotonic import IsotonicRegression\n",
    "\n",
    "import preprocessing_predictions as prep"
   ]
  },
  {
   "cell_type": "code",
   "execution_count": 2,
   "metadata": {},
   "outputs": [],
   "source": [
    "df = prep.get_prediction_data()\n",
    "x_train = df[[\"deaths\", \"cases\", \"hospitalizations\", \"temp\"]]#, 'vaccinations']]\n",
    "y_train = df[\"StringencyIndexForDisplay\"]\n",
    "\n",
    "# df_measures = prep.get_measures_data()\n",
    "# x_train_oxford = df_measures[[\"deaths\", \"cases\"]]\n",
    "# y_train_oxford = df_measures[\"StringencyIndexForDisplay\"]\n",
    "\n"
   ]
  },
  {
   "cell_type": "code",
   "execution_count": 7,
   "metadata": {},
   "outputs": [
    {
     "name": "stdout",
     "output_type": "stream",
     "text": [
      "41.67000000000001\n",
      "         deaths        cases  hospitalizations       temp\n",
      "0  18240.714286  3701.285714         23.857143  11.542857\n"
     ]
    },
    {
     "name": "stderr",
     "output_type": "stream",
     "text": [
      "c:\\Users\\Tim\\Development\\INFOMDSS\\preprocessing_predictions.py:106: DtypeWarning: Columns (2,3) have mixed types.Specify dtype option on import or set low_memory=False.\n",
      "  df_measures = m.get_measures_df_il_nl_nsw()\n",
      "c:\\Users\\Tim\\Development\\INFOMDSS\\preprocessing_predictions.py:123: FutureWarning: DataFrame.mean and DataFrame.median with numeric_only=None will include datetime64 and datetime64tz columns in a future version.\n",
      "  mean_latest_week = pd.DataFrame(latest_week.mean(axis=0)).T\n",
      "c:\\Users\\Tim\\Development\\INFOMDSS\\preprocessing_predictions.py:123: FutureWarning: Dropping of nuisance columns in DataFrame reductions (with 'numeric_only=None') is deprecated; in a future version this will raise TypeError.  Select only valid columns before calling the reduction.\n",
      "  mean_latest_week = pd.DataFrame(latest_week.mean(axis=0)).T\n"
     ]
    }
   ],
   "source": []
  },
  {
   "cell_type": "code",
   "execution_count": 3,
   "metadata": {},
   "outputs": [
    {
     "name": "stdout",
     "output_type": "stream",
     "text": [
      "Countries in df:  ['Netherlands' 'Israel' 'Australia']\n",
      "Australia should be in here!\n",
      "__________________________________________________________________________________________\n",
      "all rows that concern the last week (and NL) should be removed for training the model...\n",
      "...and used as data that will be predicted on\n"
     ]
    }
   ],
   "source": [
    "countries = df['CountryName'].unique()\n",
    "print('Countries in df: ',countries)\n",
    "print('Australia should be in here!')\n",
    "print('_'*90)\n",
    "print('all rows that concern the last week (and NL) should be removed for training the model...')\n",
    "print('...and used as data that will be predicted on')"
   ]
  },
  {
   "cell_type": "code",
   "execution_count": 4,
   "metadata": {},
   "outputs": [],
   "source": [
    "folds = KFold(n_splits = 10, shuffle = True, random_state = 32)"
   ]
  },
  {
   "cell_type": "code",
   "execution_count": null,
   "metadata": {},
   "outputs": [],
   "source": []
  },
  {
   "cell_type": "code",
   "execution_count": 17,
   "metadata": {},
   "outputs": [
    {
     "name": "stdout",
     "output_type": "stream",
     "text": [
      "Best regressor DecisionTreeRegressor() MAE mean: -1.7976522828885044\n",
      "1  KNeighborsRegressor() -3.641008657363501\n",
      "2  LinearRegression() -12.245461480619499\n",
      "3  SGDRegressor() -2.2097479164470108e+16\n",
      "4  HuberRegressor() -14.828811076289393\n",
      "5  BayesianRidge() -12.289116243113703\n",
      "6  DecisionTreeRegressor() -1.7976522828885044\n",
      "7  GaussianProcessRegressor() -61.15084279957999\n",
      "8  PLSRegression() -12.521736008018495\n",
      "9  MLPRegressor() -14.636336657438317\n",
      "10  AdaBoostRegressor() -8.811670193859527\n",
      "11  RandomForestRegressor() -1.9285831154315338\n"
     ]
    }
   ],
   "source": [
    "regressors = [\n",
    "    KNeighborsRegressor(),\n",
    "    LinearRegression(),\n",
    "    SGDRegressor(),\n",
    "    HuberRegressor(),\n",
    "    BayesianRidge(),\n",
    "    DecisionTreeRegressor(),\n",
    "    GaussianProcessRegressor(),\n",
    "    PLSRegression(),\n",
    "    MLPRegressor(),\n",
    "    AdaBoostRegressor(),\n",
    "    RandomForestRegressor()\n",
    "    \n",
    "]\n",
    "\n",
    "best_regressor = ''\n",
    "best_score = 9999\n",
    "scores = []\n",
    "\n",
    "for regressor in regressors:\n",
    "    regressor_scores = cross_val_score(regressor, x_train, y_train, cv=folds, scoring='neg_mean_absolute_error', error_score='raise', n_jobs=-1)\n",
    "    mean = regressor_scores.mean()\n",
    "    scores.append((regressor, mean))\n",
    "\n",
    "    if abs(mean) < abs(best_score):\n",
    "        best_regressor = regressor\n",
    "        best_score = mean\n",
    "\n",
    "print(f\"Best regressor {best_regressor} MAE mean:\", best_score)\n",
    "i=1\n",
    "for regressor, mean in scores:\n",
    "    print(f'{i} ', regressor, mean)\n",
    "    i+=1"
   ]
  },
  {
   "cell_type": "code",
   "execution_count": 50,
   "metadata": {},
   "outputs": [
    {
     "name": "stderr",
     "output_type": "stream",
     "text": [
      "c:\\Users\\Tim\\Development\\INFOMDSS\\.env\\lib\\site-packages\\sklearn\\model_selection\\_validation.py:372: FitFailedWarning: \n",
      "840 fits failed out of a total of 3000.\n",
      "The score on these train-test partitions for these parameters will be set to nan.\n",
      "If these failures are not expected, you can try to debug them by setting error_score='raise'.\n",
      "\n",
      "Below are more details about the failures:\n",
      "--------------------------------------------------------------------------------\n",
      "270 fits failed with the following error:\n",
      "Traceback (most recent call last):\n",
      "  File \"c:\\Users\\Tim\\Development\\INFOMDSS\\.env\\lib\\site-packages\\sklearn\\model_selection\\_validation.py\", line 681, in _fit_and_score\n",
      "    estimator.fit(X_train, y_train, **fit_params)\n",
      "  File \"c:\\Users\\Tim\\Development\\INFOMDSS\\.env\\lib\\site-packages\\sklearn\\tree\\_classes.py\", line 1315, in fit\n",
      "    super().fit(\n",
      "  File \"c:\\Users\\Tim\\Development\\INFOMDSS\\.env\\lib\\site-packages\\sklearn\\tree\\_classes.py\", line 250, in fit\n",
      "    raise ValueError(\n",
      "ValueError: min_samples_split must be an integer greater than 1 or a float in (0.0, 1.0]; got the integer 1\n",
      "\n",
      "--------------------------------------------------------------------------------\n",
      "270 fits failed with the following error:\n",
      "Traceback (most recent call last):\n",
      "  File \"c:\\Users\\Tim\\Development\\INFOMDSS\\.env\\lib\\site-packages\\sklearn\\model_selection\\_validation.py\", line 681, in _fit_and_score\n",
      "    estimator.fit(X_train, y_train, **fit_params)\n",
      "  File \"c:\\Users\\Tim\\Development\\INFOMDSS\\.env\\lib\\site-packages\\sklearn\\tree\\_classes.py\", line 1315, in fit\n",
      "    super().fit(\n",
      "  File \"c:\\Users\\Tim\\Development\\INFOMDSS\\.env\\lib\\site-packages\\sklearn\\tree\\_classes.py\", line 258, in fit\n",
      "    if not 0.0 < self.min_samples_split <= 1.0:\n",
      "TypeError: '<' not supported between instances of 'float' and 'NoneType'\n",
      "\n",
      "--------------------------------------------------------------------------------\n",
      "300 fits failed with the following error:\n",
      "Traceback (most recent call last):\n",
      "  File \"c:\\Users\\Tim\\Development\\INFOMDSS\\.env\\lib\\site-packages\\sklearn\\model_selection\\_validation.py\", line 681, in _fit_and_score\n",
      "    estimator.fit(X_train, y_train, **fit_params)\n",
      "  File \"c:\\Users\\Tim\\Development\\INFOMDSS\\.env\\lib\\site-packages\\sklearn\\tree\\_classes.py\", line 1315, in fit\n",
      "    super().fit(\n",
      "  File \"c:\\Users\\Tim\\Development\\INFOMDSS\\.env\\lib\\site-packages\\sklearn\\tree\\_classes.py\", line 241, in fit\n",
      "    if not 0.0 < self.min_samples_leaf <= 0.5:\n",
      "TypeError: '<' not supported between instances of 'float' and 'NoneType'\n",
      "\n",
      "  warnings.warn(some_fits_failed_message, FitFailedWarning)\n",
      "c:\\Users\\Tim\\Development\\INFOMDSS\\.env\\lib\\site-packages\\sklearn\\model_selection\\_search.py:969: UserWarning: One or more of the test scores are non-finite: [        nan -1.54231974 -1.67427181 -1.73706811 -1.64196159 -1.66217643\n",
      " -1.63668561 -1.72231374 -1.72830152         nan         nan -1.89726351\n",
      " -1.89726351 -1.89726351 -1.94026575 -1.7654305  -1.81322853 -1.92265692\n",
      " -1.91551995         nan         nan -1.84774441 -1.84774441 -1.84774441\n",
      " -1.84774441 -1.84774441 -1.97426673 -2.03307543 -1.92016465         nan\n",
      "         nan -2.07555138 -2.07555138 -2.07555138 -2.07555138 -2.07555138\n",
      " -2.07555138 -2.07555138 -2.03332238         nan         nan -2.17917508\n",
      " -2.17917508 -2.17917508 -2.17917508 -2.17917508 -2.17917508 -2.17917508\n",
      " -2.17917508         nan         nan -2.18864788 -2.18864788 -2.18864788\n",
      " -2.18864788 -2.18864788 -2.18864788 -2.18864788 -2.18864788         nan\n",
      "         nan -2.2759727  -2.2759727  -2.2759727  -2.2759727  -2.2759727\n",
      " -2.2759727  -2.2759727  -2.2759727          nan         nan -2.43709694\n",
      " -2.43709694 -2.43709694 -2.43709694 -2.43709694 -2.43709694 -2.43709694\n",
      " -2.43709694         nan         nan -2.45116505 -2.45116505 -2.45116505\n",
      " -2.45116505 -2.45116505 -2.45116505 -2.45116505 -2.45116505         nan\n",
      "         nan         nan         nan         nan         nan         nan\n",
      "         nan         nan         nan         nan         nan -1.63192555\n",
      " -1.57954596 -1.68650796 -1.6363761  -1.68042471 -1.65359098 -1.68259775\n",
      " -1.71822585         nan         nan -1.9441741  -1.9441741  -1.9441741\n",
      " -1.8995378  -1.78524445 -1.88966332 -1.91310121 -1.89730274         nan\n",
      "         nan -1.83862966 -1.83862966 -1.83862966 -1.83862966 -1.83862966\n",
      " -1.90744689 -2.00265496 -1.93382093         nan         nan -2.11068175\n",
      " -2.11068175 -2.11068175 -2.11068175 -2.11068175 -2.11068175 -2.11068175\n",
      " -2.02875437         nan         nan -2.16845173 -2.16845173 -2.16845173\n",
      " -2.16845173 -2.16845173 -2.16845173 -2.16845173 -2.16845173         nan\n",
      "         nan -2.18864788 -2.18864788 -2.18864788 -2.18864788 -2.18864788\n",
      " -2.18864788 -2.18864788 -2.18864788         nan         nan -2.2759727\n",
      " -2.2759727  -2.2759727  -2.2759727  -2.2759727  -2.2759727  -2.2759727\n",
      " -2.2759727          nan         nan -2.43709694 -2.43709694 -2.43709694\n",
      " -2.43709694 -2.43709694 -2.43709694 -2.43709694 -2.43709694         nan\n",
      "         nan -2.45116505 -2.45116505 -2.45116505 -2.45116505 -2.45116505\n",
      " -2.45116505 -2.45116505 -2.45116505         nan         nan         nan\n",
      "         nan         nan         nan         nan         nan         nan\n",
      "         nan         nan         nan -1.60200366 -1.63741752 -1.70562942\n",
      " -1.72285171 -1.65907021 -1.60925898 -1.69945082 -1.69387407         nan\n",
      "         nan -1.84596162 -1.84596162 -1.84596162 -1.91093805 -1.80783498\n",
      " -1.85120383 -1.89601819 -1.90943334         nan         nan -1.849269\n",
      " -1.849269   -1.849269   -1.849269   -1.849269   -1.91042139 -1.97813396\n",
      " -1.94371437         nan         nan -2.10309389 -2.10309389 -2.10309389\n",
      " -2.10309389 -2.10309389 -2.10309389 -2.10309389 -2.04365296         nan\n",
      "         nan -2.17917508 -2.17917508 -2.17917508 -2.17917508 -2.17917508\n",
      " -2.17917508 -2.17917508 -2.17917508         nan         nan -2.18864788\n",
      " -2.18864788 -2.18864788 -2.18864788 -2.18864788 -2.18864788 -2.18864788\n",
      " -2.18864788         nan         nan -2.2759727  -2.2759727  -2.2759727\n",
      " -2.2759727  -2.2759727  -2.2759727  -2.2759727  -2.2759727          nan\n",
      "         nan -2.43709694 -2.43709694 -2.43709694 -2.43709694 -2.43709694\n",
      " -2.43709694 -2.43709694 -2.43709694         nan         nan -2.45116505\n",
      " -2.45116505 -2.45116505 -2.45116505 -2.45116505 -2.45116505 -2.45116505\n",
      " -2.45116505         nan         nan         nan         nan         nan\n",
      "         nan         nan         nan         nan         nan         nan]\n",
      "  warnings.warn(\n"
     ]
    }
   ],
   "source": [
    "# Regression Tree hyperparameter tuning\n",
    "criterion = [\"absolute_error\"]\n",
    "splitter = [\"best\"]\n",
    "max_depth = list(np.arange(18, 38,1))  + [None]\n",
    "min_samples_split = list(np.arange(1, 10, 1)) + [None]\n",
    "min_samples_leaf = list(np.arange(1, 10, 1)) + [None]\n",
    "min_weight_fraction_leaf = [0]\n",
    "max_features = [\"auto\", \"sqrt\", \"log2\"]\n",
    "max_leaf_nodes = np.arange(10, 50, 5)\n",
    "ccp_alpha = [0]\n",
    "parameters = {\n",
    "    'criterion': [\"absolute_error\"],\n",
    "    'splitter': [\"best\"],\n",
    "    \"max_depth\": [20,18,19],\n",
    "    'min_samples_leaf':min_samples_leaf,\n",
    "    'min_samples_split':min_samples_split\n",
    "}\n",
    "regressor = DecisionTreeRegressor(random_state=32)\n",
    "regressor = GridSearchCV(regressor,param_grid=parameters, scoring='neg_mean_absolute_error', n_jobs=-1, cv=folds)\n",
    "regressor.fit(x_train,y_train)\n",
    "results = pd.DataFrame(regressor.cv_results_).sort_values(by='rank_test_score').set_index('rank_test_score')"
   ]
  },
  {
   "cell_type": "code",
   "execution_count": 49,
   "metadata": {},
   "outputs": [
    {
     "data": {
      "text/html": [
       "<div>\n",
       "<style scoped>\n",
       "    .dataframe tbody tr th:only-of-type {\n",
       "        vertical-align: middle;\n",
       "    }\n",
       "\n",
       "    .dataframe tbody tr th {\n",
       "        vertical-align: top;\n",
       "    }\n",
       "\n",
       "    .dataframe thead th {\n",
       "        text-align: right;\n",
       "    }\n",
       "</style>\n",
       "<table border=\"1\" class=\"dataframe\">\n",
       "  <thead>\n",
       "    <tr style=\"text-align: right;\">\n",
       "      <th></th>\n",
       "      <th>params</th>\n",
       "      <th>mean_test_score</th>\n",
       "      <th>std_test_score</th>\n",
       "    </tr>\n",
       "    <tr>\n",
       "      <th>rank_test_score</th>\n",
       "      <th></th>\n",
       "      <th></th>\n",
       "      <th></th>\n",
       "    </tr>\n",
       "  </thead>\n",
       "  <tbody>\n",
       "    <tr>\n",
       "      <th>1</th>\n",
       "      <td>{'criterion': 'absolute_error', 'max_depth': 2...</td>\n",
       "      <td>-1.542320</td>\n",
       "      <td>0.518872</td>\n",
       "    </tr>\n",
       "    <tr>\n",
       "      <th>2</th>\n",
       "      <td>{'criterion': 'absolute_error', 'max_depth': 2...</td>\n",
       "      <td>-1.595603</td>\n",
       "      <td>0.499648</td>\n",
       "    </tr>\n",
       "    <tr>\n",
       "      <th>3</th>\n",
       "      <td>{'criterion': 'absolute_error', 'max_depth': 3...</td>\n",
       "      <td>-1.598271</td>\n",
       "      <td>0.497715</td>\n",
       "    </tr>\n",
       "    <tr>\n",
       "      <th>4</th>\n",
       "      <td>{'criterion': 'absolute_error', 'max_depth': 1...</td>\n",
       "      <td>-1.602004</td>\n",
       "      <td>0.486508</td>\n",
       "    </tr>\n",
       "    <tr>\n",
       "      <th>5</th>\n",
       "      <td>{'criterion': 'absolute_error', 'max_depth': 2...</td>\n",
       "      <td>-1.602820</td>\n",
       "      <td>0.494700</td>\n",
       "    </tr>\n",
       "  </tbody>\n",
       "</table>\n",
       "</div>"
      ],
      "text/plain": [
       "                                                            params  \\\n",
       "rank_test_score                                                      \n",
       "1                {'criterion': 'absolute_error', 'max_depth': 2...   \n",
       "2                {'criterion': 'absolute_error', 'max_depth': 2...   \n",
       "3                {'criterion': 'absolute_error', 'max_depth': 3...   \n",
       "4                {'criterion': 'absolute_error', 'max_depth': 1...   \n",
       "5                {'criterion': 'absolute_error', 'max_depth': 2...   \n",
       "\n",
       "                 mean_test_score  std_test_score  \n",
       "rank_test_score                                   \n",
       "1                      -1.542320        0.518872  \n",
       "2                      -1.595603        0.499648  \n",
       "3                      -1.598271        0.497715  \n",
       "4                      -1.602004        0.486508  \n",
       "5                      -1.602820        0.494700  "
      ]
     },
     "execution_count": 49,
     "metadata": {},
     "output_type": "execute_result"
    }
   ],
   "source": [
    "results = results[['params','mean_test_score', 'std_test_score']]\n",
    "results.to_csv('data/regression_tree_tuning.csv',sep=';')\n",
    "results.head()"
   ]
  },
  {
   "cell_type": "code",
   "execution_count": 58,
   "metadata": {},
   "outputs": [
    {
     "data": {
      "text/plain": [
       "[{'criterion': 'absolute_error',\n",
       "  'max_depth': 20,\n",
       "  'min_samples_leaf': 1,\n",
       "  'min_samples_split': 2,\n",
       "  'splitter': 'best'}]"
      ]
     },
     "execution_count": 58,
     "metadata": {},
     "output_type": "execute_result"
    }
   ],
   "source": [
    "list(results.head(1)['params'].values)"
   ]
  },
  {
   "cell_type": "code",
   "execution_count": 44,
   "metadata": {},
   "outputs": [],
   "source": [
    "# AdaBoost hyperparameter tuning\n",
    "\n",
    "n_estimators = list(np.arange(10,25,1))\n",
    "parameters = {'n_estimators': n_estimators, 'loss':['square'],'learning_rate':np.arange(0.8,1.2,0.05)}\n",
    "regressor = AdaBoostRegressor(random_state=32)\n",
    "regressor = GridSearchCV(regressor,param_grid=parameters, scoring='neg_mean_absolute_error', n_jobs=-1, cv=folds)\n",
    "regressor.fit(x_train,y_train)\n",
    "results = pd.DataFrame(regressor.cv_results_).sort_values(by='rank_test_score')"
   ]
  },
  {
   "cell_type": "code",
   "execution_count": 124,
   "metadata": {},
   "outputs": [
    {
     "name": "stdout",
     "output_type": "stream",
     "text": [
      "Mean: -4.9099265252002455\n",
      "stdev: 1.9805838029801786\n"
     ]
    }
   ],
   "source": [
    "# AdaBoost, hyperparameters tuned\n",
    "\n",
    "regressor = AdaBoostRegressor(random_state=811, loss='square',n_estimators=21,learning_rate=0.9)\n",
    "regressor_scores = cross_val_score(regressor, x_train, y_train, cv=folds,scoring='neg_mean_absolute_error',error_score='raise')\n",
    "print(\"Mean:\", np.mean(regressor_scores))\n",
    "print(\"stdev:\", np.std(regressor_scores))"
   ]
  },
  {
   "cell_type": "code",
   "execution_count": 3,
   "metadata": {},
   "outputs": [],
   "source": [
    "df = prep.get_latest_stringency_nl()\n",
    "print(df.dtypes)\n",
    "print(df)"
   ]
  }
 ],
 "metadata": {
  "interpreter": {
   "hash": "5e8014f0653b068db70c5310ee3853998f873ad4fb0e9d6cc001a2f7ce91b38b"
  },
  "kernelspec": {
   "display_name": "Python 3.9.6 64-bit ('.env': venv)",
   "name": "python3"
  },
  "language_info": {
   "codemirror_mode": {
    "name": "ipython",
    "version": 3
   },
   "file_extension": ".py",
   "mimetype": "text/x-python",
   "name": "python",
   "nbconvert_exporter": "python",
   "pygments_lexer": "ipython3",
   "version": "3.9.6"
  },
  "orig_nbformat": 4
 },
 "nbformat": 4,
 "nbformat_minor": 2
}
