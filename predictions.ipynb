{
 "cells": [
  {
   "cell_type": "code",
   "execution_count": 1,
   "metadata": {},
   "outputs": [
    {
     "name": "stdout",
     "output_type": "stream",
     "text": [
      "date                datetime64[ns]\n",
      "hospitalizations             int32\n",
      "dtype: object\n"
     ]
    }
   ],
   "source": [
    "import pandas as pd\n",
    "import numpy as np\n",
    "from statistics import mean\n",
    "import random\n",
    "\n",
    "from sklearn.feature_extraction.text import CountVectorizer\n",
    "from sklearn.model_selection import (\n",
    "    train_test_split,\n",
    "    cross_val_score,\n",
    "    KFold,\n",
    "    cross_validate,\n",
    "    GridSearchCV\n",
    ")\n",
    "from sklearn.neighbors import KNeighborsRegressor, RadiusNeighborsRegressor\n",
    "from sklearn.linear_model import LinearRegression,SGDRegressor,HuberRegressor,Perceptron,BayesianRidge\n",
    "from sklearn.ensemble import RandomForestRegressor,AdaBoostRegressor\n",
    "from sklearn.tree import DecisionTreeRegressor\n",
    "from sklearn.gaussian_process import GaussianProcessRegressor\n",
    "from sklearn.cross_decomposition import PLSRegression\n",
    "from sklearn.neural_network import MLPRegressor\n",
    "from sklearn.isotonic import IsotonicRegression\n",
    "\n",
    "import preprocessing_predictions as prep"
   ]
  },
  {
   "cell_type": "code",
   "execution_count": 2,
   "metadata": {},
   "outputs": [],
   "source": [
    "df = prep.get_prediction_data()\n",
    "x_train = df[[\"deaths\", \"cases\", \"hospitalizations\", \"temp\"]]#, 'vaccinations']]\n",
    "y_train = df[\"StringencyIndexForDisplay\"]\n",
    "\n",
    "# df_measures = prep.get_measures_data()\n",
    "# x_train_oxford = df_measures[[\"deaths\", \"cases\"]]\n",
    "# y_train_oxford = df_measures[\"StringencyIndexForDisplay\"]\n",
    "\n"
   ]
  },
  {
   "cell_type": "code",
   "execution_count": 3,
   "metadata": {},
   "outputs": [
    {
     "name": "stdout",
     "output_type": "stream",
     "text": [
      "Countries in df:  ['Netherlands' 'Israel' 'Australia']\n",
      "Australia should be in here!\n",
      "__________________________________________________________________________________________\n",
      "all rows that concern the last week (and NL) should be removed for training the model...\n",
      "...and used as data that will be predicted on\n"
     ]
    }
   ],
   "source": [
    "countries = df['CountryName'].unique()\n",
    "print('Countries in df: ',countries)\n",
    "print('Australia should be in here!')\n",
    "print('_'*90)\n",
    "print('all rows that concern the last week (and NL) should be removed for training the model...')\n",
    "print('...and used as data that will be predicted on')"
   ]
  },
  {
   "cell_type": "code",
   "execution_count": 4,
   "metadata": {},
   "outputs": [],
   "source": [
    "folds = KFold(n_splits = 10, shuffle = True, random_state = 32)"
   ]
  },
  {
   "cell_type": "code",
   "execution_count": null,
   "metadata": {},
   "outputs": [],
   "source": []
  },
  {
   "cell_type": "code",
   "execution_count": 17,
   "metadata": {},
   "outputs": [
    {
     "name": "stdout",
     "output_type": "stream",
     "text": [
      "Best regressor DecisionTreeRegressor() MAE mean: -1.7976522828885044\n",
      "1  KNeighborsRegressor() -3.641008657363501\n",
      "2  LinearRegression() -12.245461480619499\n",
      "3  SGDRegressor() -2.2097479164470108e+16\n",
      "4  HuberRegressor() -14.828811076289393\n",
      "5  BayesianRidge() -12.289116243113703\n",
      "6  DecisionTreeRegressor() -1.7976522828885044\n",
      "7  GaussianProcessRegressor() -61.15084279957999\n",
      "8  PLSRegression() -12.521736008018495\n",
      "9  MLPRegressor() -14.636336657438317\n",
      "10  AdaBoostRegressor() -8.811670193859527\n",
      "11  RandomForestRegressor() -1.9285831154315338\n"
     ]
    }
   ],
   "source": [
    "regressors = [\n",
    "    KNeighborsRegressor(),\n",
    "    LinearRegression(),\n",
    "    SGDRegressor(),\n",
    "    HuberRegressor(),\n",
    "    BayesianRidge(),\n",
    "    DecisionTreeRegressor(),\n",
    "    GaussianProcessRegressor(),\n",
    "    PLSRegression(),\n",
    "    MLPRegressor(),\n",
    "    AdaBoostRegressor(),\n",
    "    RandomForestRegressor()\n",
    "    \n",
    "]\n",
    "\n",
    "best_regressor = ''\n",
    "best_score = 9999\n",
    "scores = []\n",
    "\n",
    "for regressor in regressors:\n",
    "    regressor_scores = cross_val_score(regressor, x_train, y_train, cv=folds, scoring='neg_mean_absolute_error', error_score='raise', n_jobs=-1)\n",
    "    mean = regressor_scores.mean()\n",
    "    scores.append((regressor, mean))\n",
    "\n",
    "    if abs(mean) < abs(best_score):\n",
    "        best_regressor = regressor\n",
    "        best_score = mean\n",
    "\n",
    "print(f\"Best regressor {best_regressor} MAE mean:\", best_score)\n",
    "i=1\n",
    "for regressor, mean in scores:\n",
    "    print(f'{i} ', regressor, mean)\n",
    "    i+=1"
   ]
  },
  {
   "cell_type": "code",
   "execution_count": 47,
   "metadata": {},
   "outputs": [
    {
     "ename": "SyntaxError",
     "evalue": "invalid syntax (Temp/ipykernel_18900/1347786305.py, line 12)",
     "output_type": "error",
     "traceback": [
      "\u001b[1;36m  File \u001b[1;32m\"C:\\Users\\Tim\\AppData\\Local\\Temp/ipykernel_18900/1347786305.py\"\u001b[1;36m, line \u001b[1;32m12\u001b[0m\n\u001b[1;33m    criterion = [\"absolute_error\"],\u001b[0m\n\u001b[1;37m              ^\u001b[0m\n\u001b[1;31mSyntaxError\u001b[0m\u001b[1;31m:\u001b[0m invalid syntax\n"
     ]
    }
   ],
   "source": [
    "# Regression Tree hyperparameter tuning\n",
    "criterion = [\"absolute_error\"]\n",
    "splitter = [\"best\"]\n",
    "max_depth = list(np.arange(18, 38,1))  + [None]\n",
    "min_samples_split = list(np.arange(1, 10, 1)) + [None]\n",
    "min_samples_leaf = list(np.arange(1, 10, 1)) + [None]\n",
    "min_weight_fraction_leaf = [0]\n",
    "max_features = [\"auto\", \"sqrt\", \"log2\"]\n",
    "max_leaf_nodes = np.arange(10, 50, 5)\n",
    "ccp_alpha = [0]\n",
    "parameters = {\n",
    "    'criterion': [\"absolute_error\"],\n",
    "    'splitter': [\"best\"],\n",
    "    \"max_depth\": max_depth,\n",
    "}\n",
    "regressor = DecisionTreeRegressor(random_state=32)\n",
    "regressor = GridSearchCV(regressor,param_grid=parameters, scoring='neg_mean_absolute_error', n_jobs=-1, cv=folds)\n",
    "regressor.fit(x_train,y_train)\n",
    "results = pd.DataFrame(regressor.cv_results_).sort_values(by='rank_test_score').set_index('rank_test_score')"
   ]
  },
  {
   "cell_type": "code",
   "execution_count": 46,
   "metadata": {},
   "outputs": [
    {
     "data": {
      "text/html": [
       "<div>\n",
       "<style scoped>\n",
       "    .dataframe tbody tr th:only-of-type {\n",
       "        vertical-align: middle;\n",
       "    }\n",
       "\n",
       "    .dataframe tbody tr th {\n",
       "        vertical-align: top;\n",
       "    }\n",
       "\n",
       "    .dataframe thead th {\n",
       "        text-align: right;\n",
       "    }\n",
       "</style>\n",
       "<table border=\"1\" class=\"dataframe\">\n",
       "  <thead>\n",
       "    <tr style=\"text-align: right;\">\n",
       "      <th></th>\n",
       "      <th>params</th>\n",
       "      <th>mean_test_score</th>\n",
       "      <th>std_test_score</th>\n",
       "    </tr>\n",
       "    <tr>\n",
       "      <th>rank_test_score</th>\n",
       "      <th></th>\n",
       "      <th></th>\n",
       "      <th></th>\n",
       "    </tr>\n",
       "  </thead>\n",
       "  <tbody>\n",
       "    <tr>\n",
       "      <th>1</th>\n",
       "      <td>{'max_depth': 18}</td>\n",
       "      <td>-1.762785</td>\n",
       "      <td>0.798242</td>\n",
       "    </tr>\n",
       "    <tr>\n",
       "      <th>2</th>\n",
       "      <td>{'max_depth': 36}</td>\n",
       "      <td>-1.763253</td>\n",
       "      <td>0.761975</td>\n",
       "    </tr>\n",
       "    <tr>\n",
       "      <th>2</th>\n",
       "      <td>{'max_depth': 35}</td>\n",
       "      <td>-1.763253</td>\n",
       "      <td>0.761975</td>\n",
       "    </tr>\n",
       "    <tr>\n",
       "      <th>2</th>\n",
       "      <td>{'max_depth': 34}</td>\n",
       "      <td>-1.763253</td>\n",
       "      <td>0.761975</td>\n",
       "    </tr>\n",
       "    <tr>\n",
       "      <th>2</th>\n",
       "      <td>{'max_depth': 33}</td>\n",
       "      <td>-1.763253</td>\n",
       "      <td>0.761975</td>\n",
       "    </tr>\n",
       "  </tbody>\n",
       "</table>\n",
       "</div>"
      ],
      "text/plain": [
       "                            params  mean_test_score  std_test_score\n",
       "rank_test_score                                                    \n",
       "1                {'max_depth': 18}        -1.762785        0.798242\n",
       "2                {'max_depth': 36}        -1.763253        0.761975\n",
       "2                {'max_depth': 35}        -1.763253        0.761975\n",
       "2                {'max_depth': 34}        -1.763253        0.761975\n",
       "2                {'max_depth': 33}        -1.763253        0.761975"
      ]
     },
     "execution_count": 46,
     "metadata": {},
     "output_type": "execute_result"
    }
   ],
   "source": [
    "results = results[['params','mean_test_score', 'std_test_score']]\n",
    "results.to_csv('data/regression_tree_tuning.csv',sep=';')\n",
    "results.head()"
   ]
  },
  {
   "cell_type": "code",
   "execution_count": 44,
   "metadata": {},
   "outputs": [],
   "source": [
    "# AdaBoost hyperparameter tuning\n",
    "\n",
    "n_estimators = list(np.arange(10,25,1))\n",
    "parameters = {'n_estimators': n_estimators, 'loss':['square'],'learning_rate':np.arange(0.8,1.2,0.05)}\n",
    "regressor = AdaBoostRegressor(random_state=32)\n",
    "regressor = GridSearchCV(regressor,param_grid=parameters, scoring='neg_mean_absolute_error', n_jobs=-1, cv=folds)\n",
    "regressor.fit(x_train,y_train)\n",
    "results = pd.DataFrame(regressor.cv_results_).sort_values(by='rank_test_score')"
   ]
  },
  {
   "cell_type": "code",
   "execution_count": 124,
   "metadata": {},
   "outputs": [
    {
     "name": "stdout",
     "output_type": "stream",
     "text": [
      "Mean: -4.9099265252002455\n",
      "stdev: 1.9805838029801786\n"
     ]
    }
   ],
   "source": [
    "# AdaBoost, hyperparameters tuned\n",
    "\n",
    "regressor = AdaBoostRegressor(random_state=811, loss='square',n_estimators=21,learning_rate=0.9)\n",
    "regressor_scores = cross_val_score(regressor, x_train, y_train, cv=folds,scoring='neg_mean_absolute_error',error_score='raise')\n",
    "print(\"Mean:\", np.mean(regressor_scores))\n",
    "print(\"stdev:\", np.std(regressor_scores))"
   ]
  },
  {
   "cell_type": "code",
   "execution_count": 5,
   "metadata": {},
   "outputs": [
    {
     "name": "stdout",
     "output_type": "stream",
     "text": [
      "Accuracy rfr: [0.42388131 0.42296422 0.42742043 0.41482642 0.43004378]\n",
      "Mean: 0.42382723184585913\n"
     ]
    }
   ],
   "source": [
    "# Decision Tree\n",
    "# FULL OXFORD SET, ALL COUNTRIES\n",
    "dtr_grid_search = DecisionTreeRegressor(criterion='absolute_error')\n",
    "scores_dtr = cross_val_score(dtr_grid_search, x_train_oxford, y_train_oxford, cv=folds,scoring='neg_mean_absolute_error',error_score='raise')\n",
    "print(\"MSE dtr:\", scores_dtr)\n",
    "print(\"Mean:\", mean(scores_dtr))\n",
    "\n",
    "# Random Forest\n",
    "# FULL OXFORD SET, ALL COUNTRIES\n",
    "rfr_grid_search = RandomForestRegressor(n_jobs=-1,n_estimators=12,min_samples_split=5,max_depth=21,max_features='log2',criterion='absolute_error')\n",
    "scores_rfr = cross_val_score(rfr_grid_search, x_train_oxford, y_train_oxford, cv=folds,scoring='neg_mean_absolute_error',error_score='raise')\n",
    "print(\"MSE rfr:\", scores_rfr)\n",
    "print(\"Mean:\", mean(scores_rfr))"
   ]
  }
 ],
 "metadata": {
  "interpreter": {
   "hash": "5e8014f0653b068db70c5310ee3853998f873ad4fb0e9d6cc001a2f7ce91b38b"
  },
  "kernelspec": {
   "display_name": "Python 3.9.6 64-bit ('.env': venv)",
   "name": "python3"
  },
  "language_info": {
   "codemirror_mode": {
    "name": "ipython",
    "version": 3
   },
   "file_extension": ".py",
   "mimetype": "text/x-python",
   "name": "python",
   "nbconvert_exporter": "python",
   "pygments_lexer": "ipython3",
   "version": "3.9.6"
  },
  "orig_nbformat": 4
 },
 "nbformat": 4,
 "nbformat_minor": 2
}
